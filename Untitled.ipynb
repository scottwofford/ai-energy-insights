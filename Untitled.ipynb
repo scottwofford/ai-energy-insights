{
 "cells": [
  {
   "cell_type": "code",
   "execution_count": 1,
   "id": "0add0349-d98a-41f9-a571-56b283f4b479",
   "metadata": {},
   "outputs": [],
   "source": [
    "import pandas as pd\n",
    "import plotly.graph_objects as go\n",
    "from datetime import datetime"
   ]
  },
  {
   "cell_type": "code",
   "execution_count": 3,
   "id": "1d2bd20d-a207-4995-a742-3ce0ff5bdb21",
   "metadata": {},
   "outputs": [
    {
     "name": "stderr",
     "output_type": "stream",
     "text": [
      "/var/folders/f3/04r0zt6x07l83frzzy4yrnvc0000gn/T/ipykernel_74599/2729060976.py:1: DtypeWarning: Columns (0) have mixed types. Specify dtype option on import or set low_memory=False.\n",
      "  operating_df = pd.read_csv('operating_power_plants.csv')\n"
     ]
    }
   ],
   "source": [
    "operating_df = pd.read_csv('operating_power_plants.csv')"
   ]
  },
  {
   "cell_type": "code",
   "execution_count": 5,
   "id": "8cdcf11f-d339-42dc-826c-57a3d700edd5",
   "metadata": {},
   "outputs": [],
   "source": [
    "# Convert operating year to datetime and extract just the year\n",
    "operating_df['Operating Year'] = pd.to_datetime(operating_df['Operating Year'], errors='coerce').dt.year\n",
    "    "
   ]
  },
  {
   "cell_type": "code",
   "execution_count": null,
   "id": "7c6b8a20-b92a-4443-8c43-80faf410524a",
   "metadata": {},
   "outputs": [],
   "source": [
    "# Group by operating year and sum the capacity\n",
    "yearly_capacity = operating_df.groupby('Operating Year')['Nameplate Capacity (MW)'].sum().reset_index()\n",
    "    "
   ]
  },
  {
   "cell_type": "code",
   "execution_count": 11,
   "id": "7ab755b5-4e84-442d-ac32-bd0345a088a7",
   "metadata": {},
   "outputs": [
    {
     "data": {
      "text/plain": [
       "array([1970.,   nan])"
      ]
     },
     "execution_count": 11,
     "metadata": {},
     "output_type": "execute_result"
    }
   ],
   "source": [
    "operating_df['Operating Year'].unique()"
   ]
  },
  {
   "cell_type": "code",
   "execution_count": null,
   "id": "e2d06e02-f75d-4cc9-9454-abaa73a43208",
   "metadata": {},
   "outputs": [],
   "source": []
  }
 ],
 "metadata": {
  "kernelspec": {
   "display_name": "Python [conda env:base] *",
   "language": "python",
   "name": "conda-base-py"
  },
  "language_info": {
   "codemirror_mode": {
    "name": "ipython",
    "version": 3
   },
   "file_extension": ".py",
   "mimetype": "text/x-python",
   "name": "python",
   "nbconvert_exporter": "python",
   "pygments_lexer": "ipython3",
   "version": "3.12.7"
  }
 },
 "nbformat": 4,
 "nbformat_minor": 5
}

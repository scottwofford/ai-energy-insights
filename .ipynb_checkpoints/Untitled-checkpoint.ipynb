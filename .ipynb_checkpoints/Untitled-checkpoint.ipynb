{
 "cells": [
  {
   "cell_type": "code",
   "execution_count": 2,
   "id": "0add0349-d98a-41f9-a571-56b283f4b479",
   "metadata": {},
   "outputs": [],
   "source": [
    "import pandas as pd\n",
    "import plotly.graph_objects as go\n",
    "from datetime import datetime"
   ]
  },
  {
   "cell_type": "code",
   "execution_count": 4,
   "id": "1d2bd20d-a207-4995-a742-3ce0ff5bdb21",
   "metadata": {},
   "outputs": [
    {
     "name": "stderr",
     "output_type": "stream",
     "text": [
      "/var/folders/f3/04r0zt6x07l83frzzy4yrnvc0000gn/T/ipykernel_73774/2729060976.py:1: DtypeWarning: Columns (0) have mixed types. Specify dtype option on import or set low_memory=False.\n",
      "  operating_df = pd.read_csv('operating_power_plants.csv')\n"
     ]
    }
   ],
   "source": [
    "operating_df = pd.read_csv('operating_power_plants.csv')"
   ]
  },
  {
   "cell_type": "code",
   "execution_count": 12,
   "id": "8cdcf11f-d339-42dc-826c-57a3d700edd5",
   "metadata": {},
   "outputs": [],
   "source": [
    "# Convert operating year to datetime and extract just the year\n",
    "operating_df['Operating Year'] = pd.to_datetime(operating_df['Operating Year'], errors='coerce').dt.year\n",
    "    "
   ]
  },
  {
   "cell_type": "code",
   "execution_count": null,
   "id": "7c6b8a20-b92a-4443-8c43-80faf410524a",
   "metadata": {},
   "outputs": [],
   "source": [
    "# Group by operating year and sum the capacity\n",
    "yearly_capacity = operating_df.groupby('Operating Year')['Nameplate Capacity (MW)'].sum().reset_index()\n",
    "    "
   ]
  },
  {
   "cell_type": "raw",
   "id": "456d4d6d-7aa9-4d06-80cd-d448347d2bd8",
   "metadata": {},
   "source": []
  }
 ],
 "metadata": {
  "kernelspec": {
   "display_name": "Python [conda env:base] *",
   "language": "python",
   "name": "conda-base-py"
  },
  "language_info": {
   "codemirror_mode": {
    "name": "ipython",
    "version": 3
   },
   "file_extension": ".py",
   "mimetype": "text/x-python",
   "name": "python",
   "nbconvert_exporter": "python",
   "pygments_lexer": "ipython3",
   "version": "3.12.7"
  }
 },
 "nbformat": 4,
 "nbformat_minor": 5
}
